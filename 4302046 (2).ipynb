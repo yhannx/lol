{
 "cells": [
  {
   "cell_type": "markdown",
   "metadata": {
    "collapsed": false
   },
   "source": [
    "## 数据集处理\n",
    "通过特征衍生生成五个新特征：每死总输出，每死对敌方英雄输出，每死承受伤害，击杀数减去死亡数，击杀数减去死亡数加上一半助攻数\n",
    "从训练集分离出1w数据用于本地测试（170000-179999）\n",
    "由于不了解如何通过python修改excel，上述衍生和分离操作均在excel上完成"
   ]
  },
  {
   "cell_type": "code",
   "execution_count": 1,
   "metadata": {
    "collapsed": false
   },
   "outputs": [
    {
     "name": "stderr",
     "output_type": "stream",
     "text": [
      "/opt/conda/envs/python35-paddle120-env/lib/python3.7/site-packages/matplotlib/__init__.py:107: DeprecationWarning: Using or importing the ABCs from 'collections' instead of from 'collections.abc' is deprecated, and in 3.8 it will stop working\n",
      "  from collections import MutableMapping\n",
      "/opt/conda/envs/python35-paddle120-env/lib/python3.7/site-packages/matplotlib/rcsetup.py:20: DeprecationWarning: Using or importing the ABCs from 'collections' instead of from 'collections.abc' is deprecated, and in 3.8 it will stop working\n",
      "  from collections import Iterable, Mapping\n",
      "/opt/conda/envs/python35-paddle120-env/lib/python3.7/site-packages/matplotlib/colors.py:53: DeprecationWarning: Using or importing the ABCs from 'collections' instead of from 'collections.abc' is deprecated, and in 3.8 it will stop working\n",
      "  from collections import Sized\n"
     ]
    },
    {
     "name": "stdout",
     "output_type": "stream",
     "text": [
      "Populating the interactive namespace from numpy and matplotlib\n"
     ]
    }
   ],
   "source": [
    "import pandas as pd\n",
    "import paddle\n",
    "import numpy as np\n",
    "%pylab inline\n",
    "import seaborn as sns\n",
    "from sklearn.metrics import accuracy_score\n",
    "\n",
    "\n",
    "train_df = pd.read_csv('dataset/train.csv')\n",
    "test_df = pd.read_csv('dataset/test.csv')\n",
    "evaluation_df = pd.read_csv('dataset/evaluation.csv')\n",
    "\n",
    "train_df = train_df.drop(['id', 'timecc'], axis=1)\n",
    "test_df = test_df.drop(['id', 'timecc'], axis=1)\n",
    "evaluation_df = evaluation_df.drop(['id', 'timecc'], axis=1)"
   ]
  },
  {
   "cell_type": "markdown",
   "metadata": {
    "collapsed": false
   },
   "source": [
    "## 数据分析\n",
    "无改动"
   ]
  },
  {
   "cell_type": "code",
   "execution_count": 2,
   "metadata": {
    "collapsed": false
   },
   "outputs": [
    {
     "data": {
      "text/plain": [
       "win                       0.0\n",
       "kills                     0.0\n",
       "deaths                    0.0\n",
       "assists                   0.0\n",
       "largestkillingspree       0.0\n",
       "largestmultikill          0.0\n",
       "longesttimespentliving    0.0\n",
       "doublekills               0.0\n",
       "triplekills               0.0\n",
       "quadrakills               0.0\n",
       "pentakills                0.0\n",
       "totdmgdealt               0.0\n",
       "magicdmgdealt             0.0\n",
       "physicaldmgdealt          0.0\n",
       "truedmgdealt              0.0\n",
       "largestcrit               0.0\n",
       "totdmgtochamp             0.0\n",
       "magicdmgtochamp           0.0\n",
       "physdmgtochamp            0.0\n",
       "truedmgtochamp            0.0\n",
       "totheal                   0.0\n",
       "totunitshealed            0.0\n",
       "dmgtoturrets              0.0\n",
       "totdmgtaken               0.0\n",
       "magicdmgtaken             0.0\n",
       "physdmgtaken              0.0\n",
       "truedmgtaken              0.0\n",
       "wardsplaced               0.0\n",
       "wardskilled               0.0\n",
       "firstblood                0.0\n",
       "totdmgtochampdeath        0.0\n",
       "totdmgtakendeath          0.0\n",
       "totdmgtochamp.1           0.0\n",
       "killsdeaths               0.0\n",
       "killsdeathsassists        0.0\n",
       "dtype: float64"
      ]
     },
     "execution_count": 2,
     "metadata": {},
     "output_type": "execute_result"
    }
   ],
   "source": [
    "train_df.isnull().mean(0)"
   ]
  },
  {
   "cell_type": "code",
   "execution_count": 3,
   "metadata": {
    "collapsed": false
   },
   "outputs": [
    {
     "name": "stderr",
     "output_type": "stream",
     "text": [
      "/opt/conda/envs/python35-paddle120-env/lib/python3.7/site-packages/matplotlib/cbook/__init__.py:2349: DeprecationWarning: Using or importing the ABCs from 'collections' instead of from 'collections.abc' is deprecated, and in 3.8 it will stop working\n",
      "  if isinstance(obj, collections.Iterator):\n",
      "/opt/conda/envs/python35-paddle120-env/lib/python3.7/site-packages/matplotlib/cbook/__init__.py:2366: DeprecationWarning: Using or importing the ABCs from 'collections' instead of from 'collections.abc' is deprecated, and in 3.8 it will stop working\n",
      "  return list(data) if isinstance(data, collections.MappingView) else data\n"
     ]
    },
    {
     "data": {
      "text/plain": [
       "<matplotlib.axes._subplots.AxesSubplot at 0x7f419832ed50>"
      ]
     },
     "execution_count": 3,
     "metadata": {},
     "output_type": "execute_result"
    },
    {
     "data": {
      "image/png": "[encoded data removed]",
      "text/plain": [
       "<Figure size 432x288 with 1 Axes>"
      ]
     },
     "metadata": {},
     "output_type": "display_data"
    }
   ],
   "source": [
    "train_df['win'].value_counts().plot(kind='bar')"
   ]
  },
  {
   "cell_type": "code",
   "execution_count": 4,
   "metadata": {
    "collapsed": false
   },
   "outputs": [
    {
     "data": {
      "text/plain": [
       "<matplotlib.axes._subplots.AxesSubplot at 0x7f41190a8810>"
      ]
     },
     "execution_count": 4,
     "metadata": {},
     "output_type": "execute_result"
    },
    {
     "data": {
      "image/png": "[encoded data removed]",
      "text/plain": [
       "<Figure size 432x288 with 1 Axes>"
      ]
     },
     "metadata": {},
     "output_type": "display_data"
    }
   ],
   "source": [
    "sns.distplot(train_df['kills'])"
   ]
  },
  {
   "cell_type": "code",
   "execution_count": 5,
   "metadata": {
    "collapsed": false
   },
   "outputs": [
    {
     "data": {
      "text/plain": [
       "<matplotlib.axes._subplots.AxesSubplot at 0x7f411904ded0>"
      ]
     },
     "execution_count": 5,
     "metadata": {},
     "output_type": "execute_result"
    },
    {
     "data": {
      "image/png": "[encoded data removed]",
      "text/plain": [
       "<Figure size 432x288 with 1 Axes>"
      ]
     },
     "metadata": {},
     "output_type": "display_data"
    }
   ],
   "source": [
    "sns.distplot(train_df['deaths'])"
   ]
  },
  {
   "cell_type": "code",
   "execution_count": 6,
   "metadata": {
    "collapsed": false
   },
   "outputs": [
    {
     "data": {
      "text/plain": [
       "<matplotlib.axes._subplots.AxesSubplot at 0x7f419832edd0>"
      ]
     },
     "execution_count": 6,
     "metadata": {},
     "output_type": "execute_result"
    },
    {
     "data": {
      "image/png": "[encoded data removed]",
      "text/plain": [
       "<Figure size 432x288 with 1 Axes>"
      ]
     },
     "metadata": {},
     "output_type": "display_data"
    }
   ],
   "source": [
    "sns.boxplot(y='kills', x='win', data=train_df)"
   ]
  },
  {
   "cell_type": "code",
   "execution_count": 7,
   "metadata": {
    "collapsed": false
   },
   "outputs": [
    {
     "data": {
      "text/plain": [
       "Text(0,0.5,'deaths')"
      ]
     },
     "execution_count": 7,
     "metadata": {},
     "output_type": "execute_result"
    },
    {
     "data": {
      "image/png": "[encoded data removed]",
      "text/plain": [
       "<Figure size 432x288 with 1 Axes>"
      ]
     },
     "metadata": {},
     "output_type": "display_data"
    }
   ],
   "source": [
    "plt.scatter(train_df['kills'], train_df['deaths'])\n",
    "plt.xlabel('kills')\n",
    "plt.ylabel('deaths')"
   ]
  },
  {
   "cell_type": "code",
   "execution_count": 8,
   "metadata": {
    "collapsed": false
   },
   "outputs": [],
   "source": [
    "for col in train_df.columns[1:]:\n",
    "    train_df[col] /= train_df[col].max()\n",
    "    test_df[col] /= test_df[col].max()\n",
    "    evaluation_df[col] /= evaluation_df[col].max()"
   ]
  },
  {
   "cell_type": "markdown",
   "metadata": {
    "collapsed": false
   },
   "source": [
    "## 搭建模型\n",
    "本想通过增加全连接层来提升模型，但测试多次没有太大作用，所以保持原模型，仅将第一层输入更改"
   ]
  },
  {
   "cell_type": "code",
   "execution_count": 9,
   "metadata": {
    "collapsed": false
   },
   "outputs": [],
   "source": [
    "class Classifier(paddle.nn.Layer):\n",
    "    # self代表类的实例自身\n",
    "    def __init__(self):\n",
    "        # 初始化父类中的一些参数\n",
    "        super(Classifier, self).__init__()\n",
    "        \n",
    "        self.fc1 = paddle.nn.Linear(in_features=34, out_features=40)\n",
    "        # self.fc2 = paddle.nn.Linear(in_features=40, out_features=100)\n",
    "        # self.fc3 = paddle.nn.Linear(in_features=100, out_features=200)\n",
    "        # self.fc4 = paddle.nn.Linear(in_features=200, out_features=400)\n",
    "        # self.fc5 = paddle.nn.Linear(in_features=400, out_features=1000)\n",
    "        # self.fc6 = paddle.nn.Linear(in_features=1000, out_features=500)\n",
    "        # self.fc7 = paddle.nn.Linear(in_features=500, out_features=200)\n",
    "        # self.fc8 = paddle.nn.Linear(in_features=200, out_features=100)\n",
    "        # self.fc9 = paddle.nn.Linear(in_features=100, out_features=40)\n",
    "        self.fc10 = paddle.nn.Linear(in_features=40, out_features=1)\n",
    "        self.relu = paddle.nn.ReLU()\n",
    "    \n",
    "    # 网络的前向计算\n",
    "    def forward(self, inputs):\n",
    "        x = self.relu(self.fc1(inputs))\n",
    "        x = self.fc10(x)\n",
    "        return x"
   ]
  },
  {
   "cell_type": "code",
   "execution_count": 10,
   "metadata": {
    "collapsed": false
   },
   "outputs": [],
   "source": [
    "model = Classifier()\n",
    "model.train()\n",
    "opt = paddle.optimizer.SGD(learning_rate=0.01, parameters=model.parameters())\n",
    "loss_fn = paddle.nn.BCEWithLogitsLoss()"
   ]
  },
  {
   "cell_type": "markdown",
   "metadata": {
    "collapsed": false
   },
   "source": [
    "## 模型训练\n",
    "迭代次数设置300，其余不变"
   ]
  },
  {
   "cell_type": "code",
   "execution_count": 11,
   "metadata": {
    "collapsed": false
   },
   "outputs": [
    {
     "name": "stdout",
     "output_type": "stream",
     "text": [
      "epoch: 299, iter: 1600, loss is: [0.41000426], acc is [0.77]\r"
     ]
    }
   ],
   "source": [
    "EPOCH_NUM = 300   # 设置外层循环次数\n",
    "BATCH_SIZE = 100  # 设置batch大小\n",
    "training_data = train_df.iloc[:-1000,].values.astype(np.float32)\n",
    "val_data = train_df.iloc[-1000:, ].values.astype(np.float32)\n",
    "\n",
    "# 定义外层循环\n",
    "for epoch_id in range(EPOCH_NUM):\n",
    "    # 在每轮迭代开始之前，将训练数据的顺序随机的打乱\n",
    "    \n",
    "    np.random.shuffle(training_data)\n",
    "    \n",
    "    # 将训练数据进行拆分，每个batch包含10条数据\n",
    "    mini_batches = [training_data[k:k+BATCH_SIZE] for k in range(0, len(training_data), BATCH_SIZE)]\n",
    "    \n",
    "    # 定义内层循环\n",
    "    for iter_id, mini_batch in enumerate(mini_batches):\n",
    "        x = np.array(mini_batch[:, 1:]) # 获得当前批次训练数据\n",
    "        y = np.array(mini_batch[:, :1]) # 获得当前批次训练标签\n",
    "        \n",
    "        # 将numpy数据转为飞桨动态图tensor的格式\n",
    "        features = paddle.to_tensor(x)\n",
    "        y = paddle.to_tensor(y)\n",
    "        \n",
    "        # 前向计算\n",
    "        predicts = model(features)\n",
    "        \n",
    "        # 计算损失\n",
    "        loss = loss_fn(predicts, y, )\n",
    "        avg_loss = paddle.mean(loss)\n",
    "        if iter_id%200==0:\n",
    "            acc = (predicts > 0).astype(int).flatten() == y.flatten().astype(int)\n",
    "            acc = acc.astype(float).mean()\n",
    "\n",
    "            print(\"epoch: {}, iter: {}, loss is: {}, acc is {}\".format(epoch_id, iter_id, avg_loss.numpy(), acc.numpy()))\n",
    "        \n",
    "        # 反向传播，计算每层参数的梯度值\n",
    "        avg_loss.backward()\n",
    "        # 更新参数，根据设置好的学习率迭代一步\n",
    "        opt.step()\n",
    "        # 清空梯度变量，以备下一轮计算\n",
    "        opt.clear_grad()"
   ]
  },
  {
   "cell_type": "code",
   "execution_count": 12,
   "metadata": {
    "collapsed": false
   },
   "outputs": [],
   "source": [
    "model.eval()\n",
    "test_data = paddle.to_tensor(test_df.values.astype(np.float32))\n",
    "test_predict = model(test_data)\n",
    "test_predict = (test_predict > 0).astype(int).flatten()"
   ]
  },
  {
   "cell_type": "markdown",
   "metadata": {
    "collapsed": false
   },
   "source": [
    "## 模型本地测试\n",
    "使用evaluation.csv在本地测试模型准确率"
   ]
  },
  {
   "cell_type": "code",
   "execution_count": 13,
   "metadata": {
    "collapsed": false
   },
   "outputs": [
    {
     "data": {
      "text/plain": [
       "0.8252"
      ]
     },
     "execution_count": 13,
     "metadata": {},
     "output_type": "execute_result"
    }
   ],
   "source": [
    "evaluation_data = paddle.to_tensor(evaluation_df.iloc[:, 1:].values.astype(np.float32))\r\n",
    "evaluation_predict = model(evaluation_data)\r\n",
    "evaluation_predict = (evaluation_predict > 0).astype(int).flatten()\r\n",
    "evaluation_true = evaluation_df.iloc[:, :1].values.astype(int).flatten()\r\n",
    "accuracy_score(evaluation_true, evaluation_predict)"
   ]
  },
  {
   "cell_type": "code",
   "execution_count": 14,
   "metadata": {
    "collapsed": false
   },
   "outputs": [
    {
     "name": "stdout",
     "output_type": "stream",
     "text": [
      "updating: submission.csv (deflated 90%)\r\n"
     ]
    }
   ],
   "source": [
    "pd.DataFrame({'win':\n",
    "              test_predict.numpy()\n",
    "             }).to_csv('submission.csv', index=None)\n",
    "\n",
    "!zip submission.zip submission.csv"
   ]
  }
 ],
 "metadata": {
  "kernelspec": {
   "display_name": "Python 3",
   "language": "python",
   "name": "py35-paddle1.2.0"
  },
  "language_info": {
   "codemirror_mode": {
    "name": "ipython",
    "version": 3
   },
   "file_extension": ".py",
   "mimetype": "text/x-python",
   "name": "python",
   "nbconvert_exporter": "python",
   "pygments_lexer": "ipython3",
   "version": "3.7.4"
  }
 },
 "nbformat": 4,
 "nbformat_minor": 1
}
